{
 "cells": [
  {
   "cell_type": "code",
   "execution_count": 1,
   "metadata": {},
   "outputs": [],
   "source": [
    "import csv \n",
    "import requests \n",
    " \n",
    "# API URL \n",
    "api_url = \"https://api.openbrewerydb.org/breweries\" "
   ]
  },
  {
   "cell_type": "code",
   "execution_count": 4,
   "metadata": {},
   "outputs": [
    {
     "name": "stdout",
     "output_type": "stream",
     "text": [
      "Data successfully saved to 'breweries.csv'\n"
     ]
    }
   ],
   "source": [
    "import csv \n",
    "import requests \n",
    "from requests.packages.urllib3.exceptions import InsecureRequestWarning \n",
    " \n",
    "# Suppress only the single warning from urllib3 needed. \n",
    "requests.packages.urllib3.disable_warnings(InsecureRequestWarning) \n",
    " \n",
    "# API URL \n",
    "api_url = \"https://api.openbrewerydb.org/breweries\" \n",
    " \n",
    "# Making a GET request to the API with SSL verification disabled \n",
    "response = requests.get(api_url, verify=False) \n",
    " \n",
    "# Checking if the request was successful \n",
    "if response.status_code == 200: \n",
    "    # Converting the response to JSON \n",
    "    breweries = response.json() \n",
    "     \n",
    "    # Opening the CSV file for writing \n",
    "    with open('breweries.csv', 'w', newline='', encoding='utf-8') as csvfile: \n",
    "        # Creating the CSV writer object \n",
    "        csv_writer = csv.DictWriter(csvfile, fieldnames=breweries[0].keys()) \n",
    "         \n",
    "        # Writing the CSV header \n",
    "        csv_writer.writeheader() \n",
    "         \n",
    "        # Writing the data for each brewery \n",
    "        for brewery in breweries: \n",
    "            csv_writer.writerow(brewery) \n",
    "     \n",
    "    print(\"Data successfully saved to 'breweries.csv'\") \n",
    "else: \n",
    "    print(f\"Error accessing the API. Status code: {response.status_code}\") \n"
   ]
  },
  {
   "cell_type": "code",
   "execution_count": 7,
   "metadata": {},
   "outputs": [],
   "source": [
    "from azure.identity import DefaultAzureCredential\n",
    "from azure.storage.blob import BlobServiceClient, BlobClient, ContainerClient\n"
   ]
  },
  {
   "cell_type": "code",
   "execution_count": null,
   "metadata": {},
   "outputs": [],
   "source": [
    "def get_blob_service_client_account_key():\n",
    "    # TODO: Replace <storage-account-name> with your actual storage account name and \"AZURE_STORAGE_ACCESS_KEY\" with a access key from your azure account\n",
    "    account_url = \"https://<storage-account-name>.blob.core.windows.net\"\n",
    "    shared_access_key = \"AZURE_STORAGE_ACCESS_KEY\"\n",
    "    credential = shared_access_key\n",
    "\n",
    "    # Create the BlobServiceClient object\n",
    "    blob_service_client = BlobServiceClient(account_url, credential=credential)\n",
    "\n",
    "    return blob_service_client\n"
   ]
  },
  {
   "cell_type": "code",
   "execution_count": null,
   "metadata": {},
   "outputs": [],
   "source": [
    "blob_service_client = get_blob_service_client_account_key()\n",
    "blob_service_client"
   ]
  },
  {
   "cell_type": "code",
   "execution_count": null,
   "metadata": {},
   "outputs": [],
   "source": [
    "def upload_blob_file(blob_service_client, container_name, filepath, filename):\n",
    "    container_client = blob_service_client.get_container_client(container=container_name)\n",
    "\n",
    "    with open(file=filepath, mode=\"rb\") as data:\n",
    "        blob_client = container_client.upload_blob(name=filename, data=data, overwrite=True)\n"
   ]
  },
  {
   "cell_type": "code",
   "execution_count": null,
   "metadata": {},
   "outputs": [],
   "source": [
    "upload_blob_file(blob_service_client, \"data\", \"./breweries.csv\", \"breweries.csv\")\n"
   ]
  }
 ],
 "metadata": {
  "kernelspec": {
   "display_name": "venv",
   "language": "python",
   "name": "python3"
  },
  "language_info": {
   "codemirror_mode": {
    "name": "ipython",
    "version": 3
   },
   "file_extension": ".py",
   "mimetype": "text/x-python",
   "name": "python",
   "nbconvert_exporter": "python",
   "pygments_lexer": "ipython3",
   "version": "3.12.5"
  }
 },
 "nbformat": 4,
 "nbformat_minor": 2
}
